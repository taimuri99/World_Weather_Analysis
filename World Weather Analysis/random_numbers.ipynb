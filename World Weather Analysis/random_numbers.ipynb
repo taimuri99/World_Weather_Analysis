{
 "cells": [
  {
   "cell_type": "code",
   "execution_count": 1,
   "id": "29865961",
   "metadata": {},
   "outputs": [],
   "source": [
    "# Import the random module.\n",
    "import random"
   ]
  },
  {
   "cell_type": "code",
   "execution_count": 3,
   "id": "3bcdd333",
   "metadata": {},
   "outputs": [
    {
     "data": {
      "text/plain": [
       "60"
      ]
     },
     "execution_count": 3,
     "metadata": {},
     "output_type": "execute_result"
    }
   ],
   "source": [
    "random.randint(-90, 90)"
   ]
  },
  {
   "cell_type": "code",
   "execution_count": 4,
   "id": "383981da",
   "metadata": {},
   "outputs": [
    {
     "data": {
      "text/plain": [
       "0.0005502330026218027"
      ]
     },
     "execution_count": 4,
     "metadata": {},
     "output_type": "execute_result"
    }
   ],
   "source": [
    "random.random()"
   ]
  },
  {
   "cell_type": "code",
   "execution_count": 5,
   "id": "48e45f60",
   "metadata": {},
   "outputs": [],
   "source": [
    "x = 1\n",
    "latitudes = []\n",
    "while x < 11:\n",
    "    random_lat = random.randint(-90, 89) + random.random()\n",
    "    latitudes.append(random_lat)\n",
    "    x += 1"
   ]
  },
  {
   "cell_type": "code",
   "execution_count": 6,
   "id": "58c519f4",
   "metadata": {},
   "outputs": [
    {
     "data": {
      "text/plain": [
       "[10.581592954292695,\n",
       " 38.72505023138604,\n",
       " 43.30152162815689,\n",
       " 8.381568759004733,\n",
       " -23.094859031429966,\n",
       " 31.8798047675614,\n",
       " 74.70711804416754,\n",
       " 13.547599011325808,\n",
       " 6.719827166009429,\n",
       " 49.312361291240045]"
      ]
     },
     "execution_count": 6,
     "metadata": {},
     "output_type": "execute_result"
    }
   ],
   "source": [
    "latitudes"
   ]
  },
  {
   "cell_type": "code",
   "execution_count": 8,
   "id": "ddf86e67",
   "metadata": {},
   "outputs": [
    {
     "data": {
      "text/plain": [
       "84"
      ]
     },
     "execution_count": 8,
     "metadata": {},
     "output_type": "execute_result"
    }
   ],
   "source": [
    "random.randrange(-90, 90, step=3)"
   ]
  },
  {
   "cell_type": "code",
   "execution_count": 9,
   "id": "36c3736c",
   "metadata": {},
   "outputs": [
    {
     "data": {
      "text/plain": [
       "-6.845371174037368"
      ]
     },
     "execution_count": 9,
     "metadata": {},
     "output_type": "execute_result"
    }
   ],
   "source": [
    "random.uniform(-90, 90)"
   ]
  },
  {
   "cell_type": "code",
   "execution_count": 10,
   "id": "c1275619",
   "metadata": {},
   "outputs": [],
   "source": [
    "# Import the NumPy module.\n",
    "import numpy as np"
   ]
  },
  {
   "cell_type": "code",
   "execution_count": 11,
   "id": "b2c3363c",
   "metadata": {},
   "outputs": [
    {
     "data": {
      "text/plain": [
       "-19.970645545746606"
      ]
     },
     "execution_count": 11,
     "metadata": {},
     "output_type": "execute_result"
    }
   ],
   "source": [
    "np.random.uniform(-90.000, 90.000)"
   ]
  },
  {
   "cell_type": "code",
   "execution_count": 12,
   "id": "bc5a89bd",
   "metadata": {},
   "outputs": [
    {
     "data": {
      "text/plain": [
       "-9.458030378934922"
      ]
     },
     "execution_count": 12,
     "metadata": {},
     "output_type": "execute_result"
    }
   ],
   "source": [
    "np.random.uniform(low=-90, high=90)"
   ]
  },
  {
   "cell_type": "code",
   "execution_count": 13,
   "id": "cd3834fa",
   "metadata": {},
   "outputs": [
    {
     "data": {
      "text/plain": [
       "array([-32.82918974, -46.57954295,  48.88213699,  82.36943722,\n",
       "       -82.06391296,  62.14339434,  76.68777625,  33.9210094 ,\n",
       "       -61.50489227, -39.98068341, -27.09207969, -82.97134182,\n",
       "       -12.5339164 ,  49.74723852, -20.05386752,  12.72892097,\n",
       "        46.03016699, -33.80131829,  64.01293612, -53.91466288,\n",
       "       -67.16829453, -11.98586129,   1.79280788,  82.4379261 ,\n",
       "        -6.10052079, -48.29856803, -14.70928392,  46.25417967,\n",
       "       -11.28757232,  22.63102277,  28.31180439, -77.06697921,\n",
       "        -8.12788536, -14.98644557,  82.21676228, -84.05749848,\n",
       "       -80.40123255,  72.71001617,  22.57318531, -72.71215871,\n",
       "       -66.17027496,  56.9967003 ,   9.72624257, -76.2197431 ,\n",
       "        73.49943897,  49.18913766, -82.19267954,  14.41466543,\n",
       "       -77.30976073,  42.97447302])"
      ]
     },
     "execution_count": 13,
     "metadata": {},
     "output_type": "execute_result"
    }
   ],
   "source": [
    "np.random.uniform(-90.000, 90.000, size=50)"
   ]
  },
  {
   "cell_type": "code",
   "execution_count": 14,
   "id": "461b8541",
   "metadata": {},
   "outputs": [],
   "source": [
    "# Import timeit.\n",
    "import timeit"
   ]
  },
  {
   "cell_type": "code",
   "execution_count": 15,
   "id": "1908fc2e",
   "metadata": {},
   "outputs": [
    {
     "name": "stdout",
     "output_type": "stream",
     "text": [
      "15.4 µs ± 829 ns per loop (mean ± std. dev. of 7 runs, 100000 loops each)\n"
     ]
    }
   ],
   "source": [
    "%timeit np.random.uniform(-90.000, 90.000, size=1500)"
   ]
  },
  {
   "cell_type": "code",
   "execution_count": 16,
   "id": "dc3fc4cb",
   "metadata": {},
   "outputs": [
    {
     "name": "stdout",
     "output_type": "stream",
     "text": [
      "1.87 ms ± 602 µs per loop (mean ± std. dev. of 7 runs, 1000 loops each)\n"
     ]
    }
   ],
   "source": [
    "def latitudes(size):\n",
    "    latitudes = []\n",
    "    x = 0\n",
    "    while x < (size):\n",
    "        random_lat = random.randint(-90, 90) + random.random()\n",
    "        latitudes.append(random_lat)\n",
    "        x += 1\n",
    "    return latitudes\n",
    "# Call the function with 1500.\n",
    "%timeit latitudes(1500)"
   ]
  },
  {
   "cell_type": "code",
   "execution_count": 23,
   "id": "4d2285ce",
   "metadata": {},
   "outputs": [
    {
     "name": "stdout",
     "output_type": "stream",
     "text": [
      "1.43 ms ± 68.6 µs per loop (mean ± std. dev. of 7 runs, 1000 loops each)\n"
     ]
    }
   ],
   "source": [
    "def latitudes():\n",
    "    latitudes = []\n",
    "    x = 0\n",
    "    for x in range(1500):\n",
    "        random_lat = random.randint(-90, 90) + random.random()\n",
    "        latitudes.append(random_lat)\n",
    "        x += 1\n",
    "    return latitudes\n",
    "%timeit latitudes()"
   ]
  },
  {
   "cell_type": "code",
   "execution_count": null,
   "id": "adcb4cf3",
   "metadata": {},
   "outputs": [],
   "source": []
  }
 ],
 "metadata": {
  "kernelspec": {
   "display_name": "PythonData",
   "language": "python",
   "name": "pythondata"
  },
  "language_info": {
   "codemirror_mode": {
    "name": "ipython",
    "version": 3
   },
   "file_extension": ".py",
   "mimetype": "text/x-python",
   "name": "python",
   "nbconvert_exporter": "python",
   "pygments_lexer": "ipython3",
   "version": "3.8.5"
  }
 },
 "nbformat": 4,
 "nbformat_minor": 5
}
